{
 "cells": [
  {
   "attachments": {},
   "cell_type": "markdown",
   "metadata": {},
   "source": [
    "### Assignment 8: 2D SHAPES.\n",
    "\n",
    "#### Name: steven Fernandez | Date: July 23, 2021 | Course: 4045-002, COP 4045-001: Python Programming \n",
    "\n",
    "##### In this assignment you will design an OOP solution to 2D shape representation and computation of basic properties (area, perimeter) in Python."
   ]
  },
  {
   "cell_type": "code",
   "execution_count": 1,
   "metadata": {},
   "outputs": [],
   "source": [
    "from tabulate import tabulate"
   ]
  },
  {
   "cell_type": "code",
   "execution_count": 3,
   "metadata": {},
   "outputs": [],
   "source": [
    "\"\"\"\n",
    "You will start by designing a class Shape with very few attributes, essentially an \n",
    "initializer and a string representation.\n",
    "\"\"\"\n",
    "\n",
    "class Shape(object):\n",
    "    def __init__(self): #initializer\n",
    "        self.shape = 'shape'\n",
    "        \n",
    "    def __str__(self): #string sepresentation\n",
    "        return \"{}\".format(self.shape)"
   ]
  },
  {
   "cell_type": "code",
   "execution_count": 4,
   "metadata": {},
   "outputs": [],
   "source": [
    "\"\"\"    \n",
    "The class Circle should be derived directly from the class Shape.\n",
    "\"\"\"\n",
    "class Circle(Shape):\n",
    "    def __init__ (self, r):\n",
    "        self.shape= \"CIRCLE\"\n",
    "        self.radius = r\n",
    "        \n",
    "    def perimeter(self): #compute its perimeter\n",
    "        return round(2*3.1416*self.radius,2)\n",
    "        \n",
    "    def area(self): #compute its area\n",
    "        return round((self.radius**2)*3.1416,2) "
   ]
  },
  {
   "cell_type": "code",
   "execution_count": 5,
   "metadata": {},
   "outputs": [],
   "source": [
    "\"\"\"\n",
    "Other shapes should be implemented as derived from a class Polygon, which is a \n",
    "child of class Shape.\n",
    "\"\"\"      \n",
    "class Polygon(Shape):\n",
    "    \n",
    "    def __init__(self):\n",
    "        self.shape = 'POLYGON'\n",
    "        self.side_lengths = None\n",
    "        \n",
    "    \n",
    "    def perimeter(self): #compute its perimeter\n",
    "        return sum(self.side_lengths)\n",
    "            \n",
    "        \n",
    "    def area(self):\n",
    "        \n",
    "        #before compute the area, first check what type of polygon is\n",
    "        if self.shape=='RECTANGLE': \n",
    "            return (self.side_lengths[0]*self.side_lengths[2])\n",
    "        \n",
    "        elif self.shape=='TRIANGLE': #herons formula\n",
    "            return round((sum(self.side_lengths)/2*(sum(self.side_lengths)/2-self.a)*(sum(self.side_lengths)/2-self.b)*\n",
    "                    (sum(self.side_lengths)/2-self.c))**(1/2),2)\n",
    "        \n",
    "        elif self.shape == 'PENTAGON' or self.shape == 'HEXAGON':\n",
    "            #first, lets compute the apothem\n",
    "            ap= (self.side_lengths[0])/(2*0.76)\n",
    "            #then compute de area\n",
    "            return round((sum(self.side_lengths)*ap)/2,2)"
   ]
  },
  {
   "cell_type": "code",
   "execution_count": 6,
   "metadata": {},
   "outputs": [],
   "source": [
    "\"\"\"  \n",
    "You will then design and implement derived (inherited) classes for at least five shapes: \n",
    "circle, triangle, rectangle, pentagon, and hexagon.         \n",
    "\"\"\"\n",
    "\n",
    "#we reviewed the chapter 14, so to handle some errors (*) we implemented the try/except function.\n",
    "# (*) Errors like invalid values for the triangle or negative values in any of the 2D shapes.\n",
    "class Triangle(Polygon):\n",
    "    def __init__(self,a,b,c):\n",
    "        self.shape = 'TRIANGLE'\n",
    "        self.a= a\n",
    "        self.b= b\n",
    "        self.c= c\n",
    "    \n",
    "        try: #Triangles must have their sides checked to see if they make a triangle indeed.\n",
    "            assert self.a+self.b>self.c and self.a+self.c>self.b and self.b + self.c >self.a and self.a>0 and self.b>0 and self.c>0\n",
    "            self.side_lengths= [self.a, self.b, self.c] \n",
    "        except AssertionError:\n",
    "            print(\"THE VALUES OF THE TRIANGLE (\",self.a,\",\",self.b,\",\",self.c,\") ARE WRONG, ENTER VALID VALUES.\")\n",
    "        \n",
    "class Rectangle(Polygon):\n",
    "    \n",
    "    def __init__(self,l,w):\n",
    "        self.shape = 'RECTANGLE'\n",
    "        self.length=l\n",
    "        self.width=w\n",
    "        \n",
    "        try: #Rectangles can have any (positive-valued floating-point) value for length and width.\n",
    "            assert self.length > 0 and self.width>0\n",
    "            self.side_lengths = [self.length, self.length, self.width, self.width]\n",
    "        except AssertionError:\n",
    "            print(\"ONE OR BOTH VALUES ARE NEGATIVE, ENTER POSITIVE VALUES\")\n",
    "        \n",
    "            \n",
    "class Pentagon(Polygon):\n",
    "#Pentagons and hexagons can be assumed to be regular polygons, i.e., specifying the length of one side should be enough.\n",
    "    def __init__(self,s):\n",
    "        self.shape = 'PENTAGON'\n",
    "        self.s=s\n",
    "        \n",
    "        try: \n",
    "            assert self.s > 0\n",
    "            self.side_lengths = [self.s, self.s, self.s, self.s, self.s]\n",
    "        except AssertionError:\n",
    "            print(\"ENTER A POSITIVE VALUE\")\n",
    "\n",
    "\n",
    "class Hexagon(Polygon):\n",
    "#Pentagons and hexagons can be assumed to be regular polygons, i.e., specifying the length of one side should be enough.\n",
    "    def __init__(self,s):\n",
    "        self.shape = 'HEXAGON'\n",
    "        self.s=s\n",
    "        \n",
    "        try: \n",
    "            assert self.s > 0\n",
    "            self.side_lengths = [self.s, self.s, self.s, self.s, self.s,self.s]\n",
    "        except AssertionError:\n",
    "            print(\"ENTER A POSITIVE VALUE\")"
   ]
  },
  {
   "cell_type": "markdown",
   "metadata": {},
   "source": [
    "##### Your program should demonstrate that it can produce correct results for the driver program."
   ]
  },
  {
   "cell_type": "code",
   "execution_count": 7,
   "metadata": {},
   "outputs": [
    {
     "name": "stdout",
     "output_type": "stream",
     "text": [
      "THE VALUES OF THE TRIANGLE ( 3 , 1.7 , 4.9 ) ARE WRONG, ENTER VALID VALUES.\n",
      "==========  ========  ==========  ===========  ==========  =========\n",
      "  2D SHAPE    CIRCLE    TRIANGLE    RECTANGLE    PENTAGON    HEXAGON\n",
      "==========  ========  ==========  ===========  ==========  =========\n",
      "AREA        12.57     5.04        13.5         14.8        17.76\n",
      "PERIMETER   12.57     14.6        15           15          18\n",
      "==========  ========  ==========  ===========  ==========  =========\n"
     ]
    }
   ],
   "source": [
    "#Driver program for A8 - COP 4045\n",
    "my_circle = Circle(2)\n",
    "\n",
    "my_triangle = Triangle(3, 1.7, 4.9)     \n",
    "\n",
    "my_triangle = Triangle(3, 7, 4.6)       \n",
    "    \n",
    "my_rectangle = Rectangle(3, 4.5) \n",
    "\n",
    "my_pentagon = Pentagon(3)\n",
    "\n",
    "my_hexagon = Hexagon(3) \n",
    "\n",
    "\n",
    "#You are allowed (and encouraged!) to group the print statements and format them nicely.\n",
    "dic_results= {}\n",
    "dic_results= {'2D SHAPE': ['AREA','PERIMETER'],\n",
    "           my_circle.__str__():  [my_circle.area(),my_circle.perimeter()],\n",
    "           my_triangle.__str__(): [my_triangle.area(),my_triangle.perimeter()],\n",
    "           my_rectangle.__str__(): [my_rectangle.area(),my_rectangle.perimeter()], \n",
    "           my_pentagon.__str__(): [my_pentagon.area(),my_pentagon.perimeter()],\n",
    "           my_hexagon.__str__(): [my_hexagon.area(),my_hexagon.perimeter()]}\n",
    "T=tabulate(dic_results, headers=\"keys\",tablefmt=\"rst\", colalign=(\"center\")) \n",
    "print(T)"
   ]
  },
  {
   "cell_type": "markdown",
   "metadata": {},
   "source": [
    "##### Multiple runs with other values"
   ]
  },
  {
   "cell_type": "code",
   "execution_count": 8,
   "metadata": {},
   "outputs": [
    {
     "name": "stdout",
     "output_type": "stream",
     "text": [
      "==========  ========  ==========  ===========  ==========  =========\n",
      "  2D SHAPE    CIRCLE    TRIANGLE    RECTANGLE    PENTAGON    HEXAGON\n",
      "==========  ========  ==========  ===========  ==========  =========\n",
      "AREA        50.27     10.4        54           41.12       71.05\n",
      "PERIMETER   25.13     17.6        30           25          36\n",
      "==========  ========  ==========  ===========  ==========  =========\n"
     ]
    }
   ],
   "source": [
    "my_circle = Circle(4)   \n",
    "\n",
    "my_triangle = Triangle(4, 8, 5.6)       \n",
    "    \n",
    "my_rectangle = Rectangle(6, 9) \n",
    "\n",
    "my_pentagon = Pentagon(5)\n",
    "\n",
    "my_hexagon = Hexagon(6) \n",
    "\n",
    "\n",
    "#You are allowed (and encouraged!) to group the print statements and format them nicely.\n",
    "dic_results= {}\n",
    "dic_results= {'2D SHAPE': ['AREA','PERIMETER'],\n",
    "           my_circle.__str__():  [my_circle.area(),my_circle.perimeter()],\n",
    "           my_triangle.__str__(): [my_triangle.area(),my_triangle.perimeter()],\n",
    "           my_rectangle.__str__(): [my_rectangle.area(),my_rectangle.perimeter()], \n",
    "           my_pentagon.__str__(): [my_pentagon.area(),my_pentagon.perimeter()],\n",
    "           my_hexagon.__str__(): [my_hexagon.area(),my_hexagon.perimeter()]}\n",
    "T=tabulate(dic_results, headers=\"keys\",tablefmt=\"rst\", colalign=(\"center\")) \n",
    "print(T)"
   ]
  },
  {
   "cell_type": "code",
   "execution_count": 11,
   "metadata": {},
   "outputs": [
    {
     "name": "stdout",
     "output_type": "stream",
     "text": [
      "==========  ========  ==========  ===========  ==========  =========\n",
      "  2D SHAPE    CIRCLE    TRIANGLE    RECTANGLE    PENTAGON    HEXAGON\n",
      "==========  ========  ==========  ===========  ==========  =========\n",
      "AREA        254.47    3.72        150          133.22      444.08\n",
      "PERIMETER   56.55     12.6        50           45          90\n",
      "==========  ========  ==========  ===========  ==========  =========\n"
     ]
    }
   ],
   "source": [
    "my_circle = Circle(9)   \n",
    "\n",
    "my_triangle = Triangle(2, 6, 4.6)       \n",
    "    \n",
    "my_rectangle = Rectangle(10, 15) \n",
    "\n",
    "my_pentagon = Pentagon(9)\n",
    "\n",
    "my_hexagon = Hexagon(15) \n",
    "\n",
    "\n",
    "#You are allowed (and encouraged!) to group the print statements and format them nicely.\n",
    "dic_results= {}\n",
    "dic_results= {'2D SHAPE': ['AREA','PERIMETER'],\n",
    "           my_circle.__str__():  [my_circle.area(),my_circle.perimeter()],\n",
    "           my_triangle.__str__(): [my_triangle.area(),my_triangle.perimeter()],\n",
    "           my_rectangle.__str__(): [my_rectangle.area(),my_rectangle.perimeter()], \n",
    "           my_pentagon.__str__(): [my_pentagon.area(),my_pentagon.perimeter()],\n",
    "           my_hexagon.__str__(): [my_hexagon.area(),my_hexagon.perimeter()]}\n",
    "T=tabulate(dic_results, headers=\"keys\",tablefmt=\"rst\", colalign=(\"center\")) \n",
    "print(T)"
   ]
  },
  {
   "cell_type": "markdown",
   "metadata": {},
   "source": [
    "### Conclusions\n",
    "\n",
    "##### OOP programs let you develop more organized code while being recursive.\n",
    "##### The try except line code its a nice and helpful function to handle run errors and warnings more efficient.\n",
    "##### You should be careful creating de __init__ function in each class because if you initialice wrong the variables, it could cause a lot of errors in derived functions."
   ]
  },
  {
   "cell_type": "markdown",
   "metadata": {},
   "source": [
    "###### References\n",
    "\n",
    "##### https://johnfoster.pge.utexas.edu/numerical-methods-book/PythonIntro_ObjectOrientedProgramming.html\n",
    "##### Punch & Enbody (2017) (textbook)"
   ]
  }
 ],
 "metadata": {
  "kernelspec": {
   "display_name": "Python 3",
   "language": "python",
   "name": "python3"
  },
  "language_info": {
   "codemirror_mode": {
    "name": "ipython",
    "version": 3
   },
   "file_extension": ".py",
   "mimetype": "text/x-python",
   "name": "python",
   "nbconvert_exporter": "python",
   "pygments_lexer": "ipython3",
   "version": "3.8.3"
  }
 },
 "nbformat": 4,
 "nbformat_minor": 4
}
