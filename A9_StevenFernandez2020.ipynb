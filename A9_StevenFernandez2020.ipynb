{
 "cells": [
  {
   "attachments": {},
   "cell_type": "markdown",
   "metadata": {},
   "source": [
    "### Assignment 9: Diabetes Classifier\n",
    "##### Name: Steven Fernandez | Date: July 28, 2021 | Course: 4045-002, COP 4045-001: Python Programming "
   ]
  },
  {
   "cell_type": "markdown",
   "metadata": {},
   "source": [
    "#### In this assignment you will follow the same steps as in Chapter 10 of the textbook."
   ]
  },
  {
   "cell_type": "code",
   "execution_count": 16,
   "metadata": {},
   "outputs": [
    {
     "data": {
      "text/plain": [
       "'\\n1. Implement and test the 5 main functions and 4 main data structures from Chapter 10.\\n'"
      ]
     },
     "execution_count": 16,
     "metadata": {},
     "output_type": "execute_result"
    }
   ],
   "source": [
    "\"\"\"\n",
    "1. Implement and test the 5 main functions and 4 main data structures from Chapter 10.\n",
    "\"\"\""
   ]
  },
  {
   "cell_type": "code",
   "execution_count": 100,
   "metadata": {},
   "outputs": [],
   "source": [
    "import matplotlib.pyplot as plt\n",
    "import seaborn as sns"
   ]
  },
  {
   "cell_type": "markdown",
   "metadata": {},
   "source": [
    "###### Functions and Data Structures"
   ]
  },
  {
   "cell_type": "code",
   "execution_count": 101,
   "metadata": {},
   "outputs": [],
   "source": [
    "def make_training_set(file_name): #Function 1 \n",
    "    training_set_list = []\n",
    "    training_file = open(file_name) \n",
    "    next(training_file) #Skip the header\n",
    "    for line_str in training_file: #Get the values and storage them in a tuple then in a list\n",
    "        Pregnancies, Glucose, BloodPressure, SkinThickness, Insulin, BMI, DiabetesPedigreeFunction, Age, Outcome= line_str.split(',')\n",
    "        patient_tuple= int(Outcome), int(Pregnancies), int(Glucose), int(BloodPressure), int(SkinThickness), int(Insulin), float(BMI), float(DiabetesPedigreeFunction), int(Age)\n",
    "        training_set_list.append(patient_tuple)\n",
    "    return training_set_list"
   ]
  },
  {
   "cell_type": "code",
   "execution_count": 102,
   "metadata": {},
   "outputs": [],
   "source": [
    "def make_test_set(file_name): #Function 2\n",
    "    test_set_list = []\n",
    "    test_file = open(file_name)\n",
    "    next(test_file) #Skip the header\n",
    "    for line_str in test_file: #Get the values and storage them in a tuple then in a list\n",
    "        Pregnancies, Glucose, BloodPressure, SkinThickness, Insulin, BMI, DiabetesPedigreeFunction, Age, Outcome= line_str.split(',')\n",
    "        patient_tuple= int(Outcome), int(Pregnancies), int(Glucose), int(BloodPressure), int(SkinThickness), int(Insulin), float(BMI), float(DiabetesPedigreeFunction), int(Age)\n",
    "        test_set_list.append(patient_tuple)\n",
    "    return test_set_list"
   ]
  },
  {
   "cell_type": "code",
   "execution_count": 103,
   "metadata": {},
   "outputs": [],
   "source": [
    "def sum_lists(list1,list2):\n",
    "    sums_list = []\n",
    "    for index in range(8):\n",
    "        sums_list.append(list1[index]+list2[index])\n",
    "    return sums_list\n",
    "\n",
    "def make_averages(sums_list,total_int):\n",
    "    averages_list = []\n",
    "    for value_int in sums_list:\n",
    "        averages_list.append(value_int/total_int)\n",
    "    return averages_list\n",
    "\n",
    "def train_classifier(training_set_list): #Function 3\n",
    "    nonediabetes_sums_list=[0]*8 #it multiplies with 8, because the dataset has 8 attributes.\n",
    "    nonediabetes_count=0\n",
    "    diabetes_sums_list=[0]*8 #it multiplies with 8, because the dataset has 8 attributes.\n",
    "    diabetes_count=0\n",
    "    \n",
    "    for patient_tuple in training_set_list:\n",
    "        if patient_tuple[0]==0: \n",
    "            nonediabetes_sums_list=sum_lists(nonediabetes_sums_list,patient_tuple[1:])\n",
    "            nonediabetes_count= nonediabetes_count+1\n",
    "        else: \n",
    "            diabetes_sums_list=sum_lists(diabetes_sums_list,patient_tuple[1:])\n",
    "            diabetes_count=diabetes_count+1\n",
    "\n",
    "    nonediabetes_averages_list=make_averages(nonediabetes_sums_list,nonediabetes_count)\n",
    "    diabetes_averages_list=make_averages(diabetes_sums_list,diabetes_count)\n",
    "    classifier_list=make_averages(sum_lists(nonediabetes_averages_list,diabetes_averages_list),2)\n",
    "\n",
    "    return classifier_list"
   ]
  },
  {
   "cell_type": "code",
   "execution_count": 104,
   "metadata": {},
   "outputs": [],
   "source": [
    "def classify_test_set_list(test_set_list, classifier_list): #Function 4\n",
    "    result_list = [] \n",
    "    \n",
    "    for patient_tuple in test_set_list:\n",
    "        nonediabetes_count= 0\n",
    "        diabetes_count= 0\n",
    "        Outcome= patient_tuple[0]\n",
    "        \n",
    "        for index in range(8):\n",
    "            if patient_tuple[index] > classifier_list[index]:\n",
    "                diabetes_count= diabetes_count+1\n",
    "            else:\n",
    "                nonediabetes_count= nonediabetes_count+1\n",
    "        result_tuple = (nonediabetes_count, diabetes_count,Outcome)\n",
    "        result_list.append(result_tuple)\n",
    "    return result_list"
   ]
  },
  {
   "cell_type": "code",
   "execution_count": 117,
   "metadata": {},
   "outputs": [],
   "source": [
    "def report_results(result_list): #Function 5\n",
    "    total_count= 0\n",
    "    inaccurate_count = 0\n",
    "    \n",
    "    for result_tuple in result_list:\n",
    "        nonediabetes_count, diabetes_count, Outcome = result_tuple[:]\n",
    "        total_count=total_count+1\n",
    "        \n",
    "        if (nonediabetes_count>diabetes_count) and (Outcome == 1): #Here, make a little change to be more accurate\n",
    "            inaccurate_count= inaccurate_count+1\n",
    "        elif (nonediabetes_count<diabetes_count) and (Outcome == 0): \n",
    "            inaccurate_count= inaccurate_count+1\n",
    "    print(\"Of \",total_count,\" patients, there were \",inaccurate_count,\" inaccuracies\")"
   ]
  },
  {
   "cell_type": "markdown",
   "metadata": {},
   "source": [
    "#### Main Program"
   ]
  },
  {
   "cell_type": "code",
   "execution_count": 118,
   "metadata": {},
   "outputs": [
    {
     "name": "stdout",
     "output_type": "stream",
     "text": [
      "Of  155  patients, there were  32  inaccuracies\n"
     ]
    }
   ],
   "source": [
    "#First, the dataset was divided into two files, one for training and another one for testing.\n",
    "#80% for training and 20% for testing like we normally do with scikit learn for training and testing machine learning models.\n",
    "\n",
    "training_set_list= make_training_set('diabetes_train.csv')\n",
    "test_set_list= make_test_set('diabetes_test.csv')\n",
    "classifier_list= train_classifier(training_set_list)\n",
    "results_list = classify_test_set_list(test_set_list,classifier_list)\n",
    "report_results(results_list)"
   ]
  },
  {
   "cell_type": "markdown",
   "metadata": {},
   "source": [
    "##### Scatter plots to visualize at least two features of the training and test set"
   ]
  },
  {
   "cell_type": "code",
   "execution_count": 107,
   "metadata": {},
   "outputs": [
    {
     "data": {
      "image/png": "[encoded data removed]",
      "text/plain": [
       "<Figure size 432x288 with 1 Axes>"
      ]
     },
     "metadata": {
      "needs_background": "light"
     },
     "output_type": "display_data"
    }
   ],
   "source": [
    "D= []\n",
    "ND= []\n",
    "for i in training_set_list:\n",
    "    if i[0]==1:\n",
    "        D.append(i[2:4])\n",
    "    else:\n",
    "        ND.append(i[2:4])\n",
    "Dx= []\n",
    "Dy= []\n",
    "for i in D:\n",
    "    Dx.append(i[0])\n",
    "    Dy.append(i[1])\n",
    "    \n",
    "NDx= []\n",
    "NDy= []\n",
    "for i in ND:\n",
    "    NDx.append(i[0])\n",
    "    NDy.append(i[1])\n",
    "    \n",
    "    \n",
    "plt.scatter(Dx, Dy, color='blue', label='Diabetes')\n",
    "plt.scatter(NDx, NDy,color='orange', label='No Diabetes')\n",
    "plt.xlabel(\"Glucose\")\n",
    "plt.ylabel(\"Blood Pressure\")\n",
    "plt.legend()\n",
    "plt.title(\"Relationship between Glucose and Blood Pressure in the Training Set\")\n",
    "plt.grid(\"on\")\n",
    "plt.show()"
   ]
  },
  {
   "cell_type": "code",
   "execution_count": 108,
   "metadata": {},
   "outputs": [
    {
     "data": {
      "image/png": "[encoded data removed]",
      "text/plain": [
       "<Figure size 432x288 with 1 Axes>"
      ]
     },
     "metadata": {
      "needs_background": "light"
     },
     "output_type": "display_data"
    }
   ],
   "source": [
    "D= []\n",
    "ND= []\n",
    "for i in test_set_list:\n",
    "    if i[0]==1:\n",
    "        D.append(i[2:4])\n",
    "    else:\n",
    "        ND.append(i[2:4])\n",
    "Dx= []\n",
    "Dy= []\n",
    "for i in D:\n",
    "    Dx.append(i[0])\n",
    "    Dy.append(i[1])\n",
    "    \n",
    "NDx= []\n",
    "NDy= []\n",
    "for i in ND:\n",
    "    NDx.append(i[0])\n",
    "    NDy.append(i[1])\n",
    "    \n",
    "    \n",
    "plt.scatter(Dx, Dy, color='blue', label='Diabetes')\n",
    "plt.scatter(NDx, NDy,color='orange', label='No Diabetes')\n",
    "plt.xlabel(\"Glucose\")\n",
    "plt.ylabel(\"Blood Pressure\")\n",
    "plt.legend()\n",
    "plt.title(\"Relationship between Glucose and Blood Pressure in the Test Set\")\n",
    "plt.grid(\"on\")\n",
    "plt.show()"
   ]
  },
  {
   "cell_type": "markdown",
   "metadata": {},
   "source": [
    "#### Conclusions\n",
    "###### - Before start coding, it's important to understand the dataset: how is it storaged, how many attributes, how many rows, what kind of atributtes has, etc.\n",
    "##### - Because it's a classification problem, it's important to differentiate the targets: 0= No Diabetes, 1= Diabetes to make an accurate classification.\n",
    "##### -Use scatter plots to visualize the relationship between features.\n",
    "##### -Divide the dataset into two sets: training and testing, so the classifier gives more reliable results.\n",
    "##### - Use the right data structures, so it's easier to do debugging of the code."
   ]
  },
  {
   "cell_type": "markdown",
   "metadata": {},
   "source": [
    "##### References\n",
    "###### -Punch & Enbody (2017),The practice of computing using python, Chapter 10."
   ]
  }
 ],
 "metadata": {
  "kernelspec": {
   "display_name": "Python 3",
   "language": "python",
   "name": "python3"
  },
  "language_info": {
   "codemirror_mode": {
    "name": "ipython",
    "version": 3
   },
   "file_extension": ".py",
   "mimetype": "text/x-python",
   "name": "python",
   "nbconvert_exporter": "python",
   "pygments_lexer": "ipython3",
   "version": "3.8.3"
  }
 },
 "nbformat": 4,
 "nbformat_minor": 4
}
